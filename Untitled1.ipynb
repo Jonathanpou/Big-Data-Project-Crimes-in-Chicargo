{
 "cells": [
  {
   "cell_type": "code",
   "execution_count": 12,
   "id": "774a2823-1daf-4722-8422-4db8c339864d",
   "metadata": {
    "tags": []
   },
   "outputs": [],
   "source": [
    "import pandas as pd\n",
    "from sklearn.model_selection import train_test_split\n",
    "from sklearn.preprocessing import LabelEncoder\n",
    "from sklearn.linear_model import LogisticRegression\n",
    "from sklearn.metrics import accuracy_score\n",
    "\n",
    "# Step 1: Prepare the Data\n",
    "crime_data_block = pd.read_csv('/Users/jonathanpoulsen/Documents/Repos/Big-Data-Project-Crimes-in-Chicargo/Crimes_-_2001_to_Present.csv')"
   ]
  },
  {
   "cell_type": "code",
   "execution_count": 14,
   "id": "23708b65-76ab-4e23-b0d5-0b4679d29276",
   "metadata": {
    "tags": []
   },
   "outputs": [],
   "source": [
    "# List of columns to keep\n",
    "columns_to_keep = ['Date', 'Block', 'IUCR', 'Primary Type', 'Description', 'Location Description', \n",
    "                   'Arrest', 'Domestic', 'Community Area', 'FBI Code', \n",
    "                   'X Coordinate', 'Y Coordinate', 'Year', 'Latitude', 'Longitude']\n",
    "\n",
    "# Create a new DataFrame with only the columns you want to keep\n",
    "crime_data_block = crime_data_block[columns_to_keep]\n"
   ]
  },
  {
   "cell_type": "code",
   "execution_count": 15,
   "id": "ed7f9f57-2e2d-4f53-8211-6fce4d65f4f3",
   "metadata": {
    "tags": []
   },
   "outputs": [
    {
     "name": "stdout",
     "output_type": "stream",
     "text": [
      "Location Description    0.131375\n",
      "Community Area          7.910835\n",
      "X Coordinate            1.102725\n",
      "Y Coordinate            1.102725\n",
      "Latitude                1.102725\n",
      "Longitude               1.102725\n",
      "dtype: float64\n"
     ]
    }
   ],
   "source": [
    "# Check for null values in each column as a percentage of total rows\n",
    "null_values_percentage = (crime_data_block.isnull().sum() / len(crime_data_block)) * 100\n",
    "\n",
    "# Print columns with null values\n",
    "print(null_values_percentage[null_values_percentage > 0])\n"
   ]
  },
  {
   "cell_type": "code",
   "execution_count": 16,
   "id": "5c0ad288-9bad-4572-b606-b719568e860e",
   "metadata": {
    "tags": []
   },
   "outputs": [],
   "source": [
    "# Drop rows with any null values\n",
    "crime_data_block = crime_data_block.dropna()\n"
   ]
  },
  {
   "cell_type": "code",
   "execution_count": 17,
   "id": "3a2b0dc6-6690-4da0-9030-d93463d94ad2",
   "metadata": {
    "tags": []
   },
   "outputs": [],
   "source": [
    "# Convert columns to 'category' data type\n",
    "crime_data_block['IUCR'] = crime_data_block['IUCR'].astype('category')\n",
    "crime_data_block['Community Area'] = crime_data_block['Community Area'].astype('category')\n",
    "crime_data_block['FBI Code'] = crime_data_block['FBI Code'].astype('category')\n",
    "crime_data_block['Primary Type'] = crime_data_block['Primary Type'].astype('category')\n"
   ]
  },
  {
   "cell_type": "code",
   "execution_count": 18,
   "id": "030a9e01-361d-4ffb-a162-34e78c8b608d",
   "metadata": {
    "tags": []
   },
   "outputs": [
    {
     "name": "stdout",
     "output_type": "stream",
     "text": [
      "Date                      object\n",
      "Block                     object\n",
      "IUCR                    category\n",
      "Primary Type            category\n",
      "Description               object\n",
      "Location Description      object\n",
      "Arrest                      bool\n",
      "Domestic                    bool\n",
      "Community Area          category\n",
      "FBI Code                category\n",
      "X Coordinate             float64\n",
      "Y Coordinate             float64\n",
      "Year                       int64\n",
      "Latitude                 float64\n",
      "Longitude                float64\n",
      "dtype: object\n"
     ]
    }
   ],
   "source": [
    "# Check data types of each column\n",
    "print(crime_data_block.dtypes)\n"
   ]
  },
  {
   "cell_type": "code",
   "execution_count": 19,
   "id": "eddfbd45-d231-4238-883d-36d46f57b179",
   "metadata": {
    "tags": []
   },
   "outputs": [
    {
     "name": "stdout",
     "output_type": "stream",
     "text": [
      "Number of duplicate rows: 17562\n"
     ]
    }
   ],
   "source": [
    "# Check for duplicate rows\n",
    "duplicate_rows = crime_data_block.duplicated()\n",
    "\n",
    "# Print number of duplicate rows\n",
    "print(f\"Number of duplicate rows: {duplicate_rows.sum()}\")\n"
   ]
  },
  {
   "cell_type": "code",
   "execution_count": 20,
   "id": "f34b60a1-1aae-4a52-9224-e3a6e93d3c87",
   "metadata": {
    "tags": []
   },
   "outputs": [],
   "source": [
    "# Remove duplicate rows\n",
    "crime_data_block = crime_data_block.drop_duplicates()\n"
   ]
  },
  {
   "cell_type": "code",
   "execution_count": 21,
   "id": "14a76759-982f-4ab3-909e-c05374fb4c47",
   "metadata": {
    "tags": []
   },
   "outputs": [],
   "source": [
    "# Reduce the size of the dataset by sampling a subset of the data\n",
    "subset_size = 100000  # Adjust the subset size as needed\n",
    "subset_data = crime_data_block.sample(n=subset_size, random_state=0)\n",
    "\n",
    "# Use the subset data for training\n",
    "X = subset_data.drop('Block', axis=1)\n",
    "y = subset_data['Block']\n"
   ]
  },
  {
   "cell_type": "code",
   "execution_count": 22,
   "id": "298bd4ba-fea8-46ba-9320-658c5810965a",
   "metadata": {
    "tags": []
   },
   "outputs": [],
   "source": [
    "# Step 2: Select Features\n",
    "selected_features = ['Location Description', 'Primary Type', 'Year', 'Community Area']\n",
    "X_selected = X[selected_features]"
   ]
  },
  {
   "cell_type": "code",
   "execution_count": 23,
   "id": "9c19a315-6f1e-46ed-adec-222fcea0ae34",
   "metadata": {
    "tags": []
   },
   "outputs": [],
   "source": [
    "# Step 3: Preprocess the Data\n",
    "encoder = LabelEncoder()\n",
    "X_encoded = X_selected.apply(encoder.fit_transform)\n"
   ]
  },
  {
   "cell_type": "code",
   "execution_count": null,
   "id": "9b2dcad6-1148-4ae3-88a0-e5213d2c5ea7",
   "metadata": {
    "tags": []
   },
   "outputs": [],
   "source": [
    "# Step 4: Build and Train the Model\n",
    "X_train, X_test, y_train, y_test = train_test_split(X_encoded, y, test_size=0.2, random_state=0)\n",
    "model = LogisticRegression(max_iter=1000)\n",
    "model.fit(X_train, y_train)"
   ]
  },
  {
   "cell_type": "code",
   "execution_count": null,
   "id": "eee63ace-316d-4410-987f-0c35a5aa6b67",
   "metadata": {
    "tags": []
   },
   "outputs": [],
   "source": [
    "# Step 5: Evaluate the Model\n",
    "y_pred_train = model.predict(X_train)\n",
    "train_accuracy = accuracy_score(y_train, y_pred_train)\n",
    "print(\"Train Accuracy:\", train_accuracy)"
   ]
  },
  {
   "cell_type": "code",
   "execution_count": null,
   "id": "1ee1ed3d-f670-40ad-8d02-b8355fec4bcd",
   "metadata": {
    "tags": []
   },
   "outputs": [],
   "source": [
    "# Step 6: Test the Model\n",
    "y_pred_test = model.predict(X_test)\n",
    "test_accuracy = accuracy_score(y_test, y_pred_test)\n",
    "print(\"Test Accuracy:\", test_accuracy)"
   ]
  },
  {
   "cell_type": "code",
   "execution_count": 11,
   "id": "46555a86-a7b0-4bee-9a28-8125fa30ff57",
   "metadata": {},
   "outputs": [
    {
     "ename": "KeyError",
     "evalue": "\"None of [Index(['Location Description', 'Primary Type', 'Year', 'Community Area'], dtype='object')] are in the [columns]\"",
     "output_type": "error",
     "traceback": [
      "\u001b[0;31m---------------------------------------------------------------------------\u001b[0m",
      "\u001b[0;31mKeyError\u001b[0m                                  Traceback (most recent call last)",
      "Cell \u001b[0;32mIn[11], line 3\u001b[0m\n\u001b[1;32m      1\u001b[0m \u001b[38;5;66;03m# Step 7: Deploy and Use the Model\u001b[39;00m\n\u001b[1;32m      2\u001b[0m new_crime_data \u001b[38;5;241m=\u001b[39m pd\u001b[38;5;241m.\u001b[39mread_csv(\u001b[38;5;124m'\u001b[39m\u001b[38;5;124m/Users/jonathanpoulsen/Documents/Repos/Big-Data-Project-Crimes-in-Chicargo/crimes_2022.csv\u001b[39m\u001b[38;5;124m'\u001b[39m)\n\u001b[0;32m----> 3\u001b[0m X_new \u001b[38;5;241m=\u001b[39m \u001b[43mnew_crime_data\u001b[49m\u001b[43m[\u001b[49m\u001b[43mselected_features\u001b[49m\u001b[43m]\u001b[49m\n\u001b[1;32m      4\u001b[0m X_new_encoded \u001b[38;5;241m=\u001b[39m X_new\u001b[38;5;241m.\u001b[39mapply(encoder\u001b[38;5;241m.\u001b[39mtransform)\n\u001b[1;32m      5\u001b[0m predicted_blocks \u001b[38;5;241m=\u001b[39m model\u001b[38;5;241m.\u001b[39mpredict(X_new_encoded)\n",
      "File \u001b[0;32m~/Library/Python/3.9/lib/python/site-packages/pandas/core/frame.py:3813\u001b[0m, in \u001b[0;36mDataFrame.__getitem__\u001b[0;34m(self, key)\u001b[0m\n\u001b[1;32m   3811\u001b[0m     \u001b[38;5;28;01mif\u001b[39;00m is_iterator(key):\n\u001b[1;32m   3812\u001b[0m         key \u001b[38;5;241m=\u001b[39m \u001b[38;5;28mlist\u001b[39m(key)\n\u001b[0;32m-> 3813\u001b[0m     indexer \u001b[38;5;241m=\u001b[39m \u001b[38;5;28;43mself\u001b[39;49m\u001b[38;5;241;43m.\u001b[39;49m\u001b[43mcolumns\u001b[49m\u001b[38;5;241;43m.\u001b[39;49m\u001b[43m_get_indexer_strict\u001b[49m\u001b[43m(\u001b[49m\u001b[43mkey\u001b[49m\u001b[43m,\u001b[49m\u001b[43m \u001b[49m\u001b[38;5;124;43m\"\u001b[39;49m\u001b[38;5;124;43mcolumns\u001b[39;49m\u001b[38;5;124;43m\"\u001b[39;49m\u001b[43m)\u001b[49m[\u001b[38;5;241m1\u001b[39m]\n\u001b[1;32m   3815\u001b[0m \u001b[38;5;66;03m# take() does not accept boolean indexers\u001b[39;00m\n\u001b[1;32m   3816\u001b[0m \u001b[38;5;28;01mif\u001b[39;00m \u001b[38;5;28mgetattr\u001b[39m(indexer, \u001b[38;5;124m\"\u001b[39m\u001b[38;5;124mdtype\u001b[39m\u001b[38;5;124m\"\u001b[39m, \u001b[38;5;28;01mNone\u001b[39;00m) \u001b[38;5;241m==\u001b[39m \u001b[38;5;28mbool\u001b[39m:\n",
      "File \u001b[0;32m~/Library/Python/3.9/lib/python/site-packages/pandas/core/indexes/base.py:6070\u001b[0m, in \u001b[0;36mIndex._get_indexer_strict\u001b[0;34m(self, key, axis_name)\u001b[0m\n\u001b[1;32m   6067\u001b[0m \u001b[38;5;28;01melse\u001b[39;00m:\n\u001b[1;32m   6068\u001b[0m     keyarr, indexer, new_indexer \u001b[38;5;241m=\u001b[39m \u001b[38;5;28mself\u001b[39m\u001b[38;5;241m.\u001b[39m_reindex_non_unique(keyarr)\n\u001b[0;32m-> 6070\u001b[0m \u001b[38;5;28;43mself\u001b[39;49m\u001b[38;5;241;43m.\u001b[39;49m\u001b[43m_raise_if_missing\u001b[49m\u001b[43m(\u001b[49m\u001b[43mkeyarr\u001b[49m\u001b[43m,\u001b[49m\u001b[43m \u001b[49m\u001b[43mindexer\u001b[49m\u001b[43m,\u001b[49m\u001b[43m \u001b[49m\u001b[43maxis_name\u001b[49m\u001b[43m)\u001b[49m\n\u001b[1;32m   6072\u001b[0m keyarr \u001b[38;5;241m=\u001b[39m \u001b[38;5;28mself\u001b[39m\u001b[38;5;241m.\u001b[39mtake(indexer)\n\u001b[1;32m   6073\u001b[0m \u001b[38;5;28;01mif\u001b[39;00m \u001b[38;5;28misinstance\u001b[39m(key, Index):\n\u001b[1;32m   6074\u001b[0m     \u001b[38;5;66;03m# GH 42790 - Preserve name from an Index\u001b[39;00m\n",
      "File \u001b[0;32m~/Library/Python/3.9/lib/python/site-packages/pandas/core/indexes/base.py:6130\u001b[0m, in \u001b[0;36mIndex._raise_if_missing\u001b[0;34m(self, key, indexer, axis_name)\u001b[0m\n\u001b[1;32m   6128\u001b[0m     \u001b[38;5;28;01mif\u001b[39;00m use_interval_msg:\n\u001b[1;32m   6129\u001b[0m         key \u001b[38;5;241m=\u001b[39m \u001b[38;5;28mlist\u001b[39m(key)\n\u001b[0;32m-> 6130\u001b[0m     \u001b[38;5;28;01mraise\u001b[39;00m \u001b[38;5;167;01mKeyError\u001b[39;00m(\u001b[38;5;124mf\u001b[39m\u001b[38;5;124m\"\u001b[39m\u001b[38;5;124mNone of [\u001b[39m\u001b[38;5;132;01m{\u001b[39;00mkey\u001b[38;5;132;01m}\u001b[39;00m\u001b[38;5;124m] are in the [\u001b[39m\u001b[38;5;132;01m{\u001b[39;00maxis_name\u001b[38;5;132;01m}\u001b[39;00m\u001b[38;5;124m]\u001b[39m\u001b[38;5;124m\"\u001b[39m)\n\u001b[1;32m   6132\u001b[0m not_found \u001b[38;5;241m=\u001b[39m \u001b[38;5;28mlist\u001b[39m(ensure_index(key)[missing_mask\u001b[38;5;241m.\u001b[39mnonzero()[\u001b[38;5;241m0\u001b[39m]]\u001b[38;5;241m.\u001b[39munique())\n\u001b[1;32m   6133\u001b[0m \u001b[38;5;28;01mraise\u001b[39;00m \u001b[38;5;167;01mKeyError\u001b[39;00m(\u001b[38;5;124mf\u001b[39m\u001b[38;5;124m\"\u001b[39m\u001b[38;5;132;01m{\u001b[39;00mnot_found\u001b[38;5;132;01m}\u001b[39;00m\u001b[38;5;124m not in index\u001b[39m\u001b[38;5;124m\"\u001b[39m)\n",
      "\u001b[0;31mKeyError\u001b[0m: \"None of [Index(['Location Description', 'Primary Type', 'Year', 'Community Area'], dtype='object')] are in the [columns]\""
     ]
    }
   ],
   "source": [
    "# Step 7: Deploy and Use the Model\n",
    "new_crime_data = pd.read_csv('/Users/jonathanpoulsen/Documents/Repos/Big-Data-Project-Crimes-in-Chicargo/crimes_2022.csv')\n",
    "X_new = new_crime_data[selected_features]\n",
    "X_new_encoded = X_new.apply(encoder.transform)\n",
    "predicted_blocks = model.predict(X_new_encoded)\n",
    "print(\"Predicted Blocks:\", predicted_blocks)"
   ]
  }
 ],
 "metadata": {
  "kernelspec": {
   "display_name": "Python 3 (ipykernel)",
   "language": "python",
   "name": "python3"
  },
  "language_info": {
   "codemirror_mode": {
    "name": "ipython",
    "version": 3
   },
   "file_extension": ".py",
   "mimetype": "text/x-python",
   "name": "python",
   "nbconvert_exporter": "python",
   "pygments_lexer": "ipython3",
   "version": "3.9.6"
  }
 },
 "nbformat": 4,
 "nbformat_minor": 5
}
